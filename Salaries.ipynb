{
 "cells": [
  {
   "cell_type": "markdown",
   "metadata": {},
   "source": [
    "# Salaries Data\n"
   ]
  },
  {
   "cell_type": "markdown",
   "metadata": {},
   "source": [
    "What we have here is Salaries data of various government employees. We will try to find the desparities in the compensation model of 2 most significant forces out there who put their life on stake for the smooth functioning of society. We are refering to police force and fire department."
   ]
  },
  {
   "cell_type": "markdown",
   "metadata": {},
   "source": [
    "#  Importing libraries and eyeballing data"
   ]
  },
  {
   "cell_type": "code",
   "execution_count": 27,
   "metadata": {},
   "outputs": [],
   "source": [
    "import pandas as pd\n",
    "import re\n",
    "import matplotlib.pyplot as plt\n",
    "import seaborn as sns\n",
    "import numpy as np\n",
    "from scipy.stats import ttest_ind"
   ]
  },
  {
   "cell_type": "code",
   "execution_count": 2,
   "metadata": {},
   "outputs": [
    {
     "name": "stderr",
     "output_type": "stream",
     "text": [
      "C:\\Users\\HP-PC\\anaconda3\\lib\\site-packages\\IPython\\core\\interactiveshell.py:3063: DtypeWarning: Columns (3,4,5,6,12) have mixed types.Specify dtype option on import or set low_memory=False.\n",
      "  interactivity=interactivity, compiler=compiler, result=result)\n"
     ]
    }
   ],
   "source": [
    "Data = pd.read_csv('Salaries.csv')"
   ]
  },
  {
   "cell_type": "markdown",
   "metadata": {},
   "source": [
    "So the system has given us warning off the bat about the presence of mixed types in some of the columns, lets fix that first."
   ]
  },
  {
   "cell_type": "code",
   "execution_count": 4,
   "metadata": {},
   "outputs": [
    {
     "name": "stdout",
     "output_type": "stream",
     "text": [
      "<class 'pandas.core.frame.DataFrame'>\n",
      "RangeIndex: 148654 entries, 0 to 148653\n",
      "Data columns (total 13 columns):\n",
      " #   Column            Non-Null Count   Dtype  \n",
      "---  ------            --------------   -----  \n",
      " 0   Id                148654 non-null  int64  \n",
      " 1   EmployeeName      148654 non-null  object \n",
      " 2   JobTitle          148654 non-null  object \n",
      " 3   BasePay           148049 non-null  object \n",
      " 4   OvertimePay       148654 non-null  object \n",
      " 5   OtherPay          148654 non-null  object \n",
      " 6   Benefits          112495 non-null  object \n",
      " 7   TotalPay          148654 non-null  float64\n",
      " 8   TotalPayBenefits  148654 non-null  float64\n",
      " 9   Year              148654 non-null  int64  \n",
      " 10  Notes             0 non-null       float64\n",
      " 11  Agency            148654 non-null  object \n",
      " 12  Status            38119 non-null   object \n",
      "dtypes: float64(3), int64(2), object(8)\n",
      "memory usage: 14.7+ MB\n"
     ]
    }
   ],
   "source": [
    "Data.info()"
   ]
  },
  {
   "cell_type": "markdown",
   "metadata": {},
   "source": [
    "# Looking for inconsistent data"
   ]
  },
  {
   "cell_type": "code",
   "execution_count": 3,
   "metadata": {},
   "outputs": [
    {
     "data": {
      "text/plain": [
       "0.0          875\n",
       "NaN          605\n",
       "0.00         423\n",
       "54703.00     327\n",
       "55026.0      297\n",
       "            ... \n",
       "118170.12      1\n",
       "66131.78       1\n",
       "118177.59      1\n",
       "118182.11      1\n",
       "88098.02       1\n",
       "Name: BasePay, Length: 109901, dtype: int64"
      ]
     },
     "execution_count": 3,
     "metadata": {},
     "output_type": "execute_result"
    }
   ],
   "source": [
    "Data['BasePay'].value_counts(dropna=False,ascending = False)"
   ]
  },
  {
   "cell_type": "code",
   "execution_count": 4,
   "metadata": {},
   "outputs": [],
   "source": [
    "Data['BasePay'] = pd.to_numeric(Data['BasePay'], errors='coerce')"
   ]
  },
  {
   "cell_type": "code",
   "execution_count": 7,
   "metadata": {},
   "outputs": [
    {
     "name": "stdout",
     "output_type": "stream",
     "text": [
      "<class 'pandas.core.frame.DataFrame'>\n",
      "RangeIndex: 148654 entries, 0 to 148653\n",
      "Data columns (total 13 columns):\n",
      " #   Column            Non-Null Count   Dtype  \n",
      "---  ------            --------------   -----  \n",
      " 0   Id                148654 non-null  int64  \n",
      " 1   EmployeeName      148654 non-null  object \n",
      " 2   JobTitle          148654 non-null  object \n",
      " 3   BasePay           148045 non-null  float64\n",
      " 4   OvertimePay       148654 non-null  object \n",
      " 5   OtherPay          148654 non-null  object \n",
      " 6   Benefits          112495 non-null  object \n",
      " 7   TotalPay          148654 non-null  float64\n",
      " 8   TotalPayBenefits  148654 non-null  float64\n",
      " 9   Year              148654 non-null  int64  \n",
      " 10  Notes             0 non-null       float64\n",
      " 11  Agency            148654 non-null  object \n",
      " 12  Status            38119 non-null   object \n",
      "dtypes: float64(4), int64(2), object(7)\n",
      "memory usage: 14.7+ MB\n"
     ]
    }
   ],
   "source": [
    "Data.info()"
   ]
  },
  {
   "cell_type": "code",
   "execution_count": 11,
   "metadata": {},
   "outputs": [
    {
     "data": {
      "text/html": [
       "<div>\n",
       "<style scoped>\n",
       "    .dataframe tbody tr th:only-of-type {\n",
       "        vertical-align: middle;\n",
       "    }\n",
       "\n",
       "    .dataframe tbody tr th {\n",
       "        vertical-align: top;\n",
       "    }\n",
       "\n",
       "    .dataframe thead th {\n",
       "        text-align: right;\n",
       "    }\n",
       "</style>\n",
       "<table border=\"1\" class=\"dataframe\">\n",
       "  <thead>\n",
       "    <tr style=\"text-align: right;\">\n",
       "      <th></th>\n",
       "      <th>Id</th>\n",
       "      <th>EmployeeName</th>\n",
       "      <th>JobTitle</th>\n",
       "      <th>BasePay</th>\n",
       "      <th>OvertimePay</th>\n",
       "      <th>OtherPay</th>\n",
       "      <th>Benefits</th>\n",
       "      <th>TotalPay</th>\n",
       "      <th>TotalPayBenefits</th>\n",
       "      <th>Year</th>\n",
       "      <th>Notes</th>\n",
       "      <th>Agency</th>\n",
       "      <th>Status</th>\n",
       "    </tr>\n",
       "  </thead>\n",
       "  <tbody>\n",
       "    <tr>\n",
       "      <th>2896</th>\n",
       "      <td>2897</td>\n",
       "      <td>JOHN PAYNE</td>\n",
       "      <td>MANAGER VII</td>\n",
       "      <td>0.0</td>\n",
       "      <td>0</td>\n",
       "      <td>142245</td>\n",
       "      <td>NaN</td>\n",
       "      <td>142245.22</td>\n",
       "      <td>142245.22</td>\n",
       "      <td>2011</td>\n",
       "      <td>NaN</td>\n",
       "      <td>San Francisco</td>\n",
       "      <td>NaN</td>\n",
       "    </tr>\n",
       "    <tr>\n",
       "      <th>3263</th>\n",
       "      <td>3264</td>\n",
       "      <td>LAWRENCE BADINER</td>\n",
       "      <td>MANAGER VI</td>\n",
       "      <td>0.0</td>\n",
       "      <td>0</td>\n",
       "      <td>138192</td>\n",
       "      <td>NaN</td>\n",
       "      <td>138191.99</td>\n",
       "      <td>138191.99</td>\n",
       "      <td>2011</td>\n",
       "      <td>NaN</td>\n",
       "      <td>San Francisco</td>\n",
       "      <td>NaN</td>\n",
       "    </tr>\n",
       "    <tr>\n",
       "      <th>19058</th>\n",
       "      <td>19059</td>\n",
       "      <td>PETER LEONARD</td>\n",
       "      <td>FIRE FIGHTER PARAMEDIC</td>\n",
       "      <td>0.0</td>\n",
       "      <td>1630.2</td>\n",
       "      <td>64356</td>\n",
       "      <td>NaN</td>\n",
       "      <td>65986.23</td>\n",
       "      <td>65986.23</td>\n",
       "      <td>2011</td>\n",
       "      <td>NaN</td>\n",
       "      <td>San Francisco</td>\n",
       "      <td>NaN</td>\n",
       "    </tr>\n",
       "    <tr>\n",
       "      <th>20834</th>\n",
       "      <td>20835</td>\n",
       "      <td>MICHAEL COLLINS</td>\n",
       "      <td>POLICE OFFICER II</td>\n",
       "      <td>0.0</td>\n",
       "      <td>7815.78</td>\n",
       "      <td>52820.8</td>\n",
       "      <td>NaN</td>\n",
       "      <td>60636.55</td>\n",
       "      <td>60636.55</td>\n",
       "      <td>2011</td>\n",
       "      <td>NaN</td>\n",
       "      <td>San Francisco</td>\n",
       "      <td>NaN</td>\n",
       "    </tr>\n",
       "    <tr>\n",
       "      <th>21658</th>\n",
       "      <td>21659</td>\n",
       "      <td>LINDA ZIMMERMAN</td>\n",
       "      <td>PUBLIC HEALTH NURSE</td>\n",
       "      <td>0.0</td>\n",
       "      <td>0</td>\n",
       "      <td>58441.6</td>\n",
       "      <td>NaN</td>\n",
       "      <td>58441.60</td>\n",
       "      <td>58441.60</td>\n",
       "      <td>2011</td>\n",
       "      <td>NaN</td>\n",
       "      <td>San Francisco</td>\n",
       "      <td>NaN</td>\n",
       "    </tr>\n",
       "    <tr>\n",
       "      <th>...</th>\n",
       "      <td>...</td>\n",
       "      <td>...</td>\n",
       "      <td>...</td>\n",
       "      <td>...</td>\n",
       "      <td>...</td>\n",
       "      <td>...</td>\n",
       "      <td>...</td>\n",
       "      <td>...</td>\n",
       "      <td>...</td>\n",
       "      <td>...</td>\n",
       "      <td>...</td>\n",
       "      <td>...</td>\n",
       "      <td>...</td>\n",
       "    </tr>\n",
       "    <tr>\n",
       "      <th>148645</th>\n",
       "      <td>148646</td>\n",
       "      <td>Carolyn A Wilson</td>\n",
       "      <td>Human Services Technician</td>\n",
       "      <td>0.0</td>\n",
       "      <td>0.00</td>\n",
       "      <td>0.00</td>\n",
       "      <td>0.00</td>\n",
       "      <td>0.00</td>\n",
       "      <td>0.00</td>\n",
       "      <td>2014</td>\n",
       "      <td>NaN</td>\n",
       "      <td>San Francisco</td>\n",
       "      <td>PT</td>\n",
       "    </tr>\n",
       "    <tr>\n",
       "      <th>148647</th>\n",
       "      <td>148648</td>\n",
       "      <td>Joann Anderson</td>\n",
       "      <td>Communications Dispatcher 2</td>\n",
       "      <td>0.0</td>\n",
       "      <td>0.00</td>\n",
       "      <td>0.00</td>\n",
       "      <td>0.00</td>\n",
       "      <td>0.00</td>\n",
       "      <td>0.00</td>\n",
       "      <td>2014</td>\n",
       "      <td>NaN</td>\n",
       "      <td>San Francisco</td>\n",
       "      <td>PT</td>\n",
       "    </tr>\n",
       "    <tr>\n",
       "      <th>148648</th>\n",
       "      <td>148649</td>\n",
       "      <td>Leon Walker</td>\n",
       "      <td>Custodian</td>\n",
       "      <td>0.0</td>\n",
       "      <td>0.00</td>\n",
       "      <td>0.00</td>\n",
       "      <td>0.00</td>\n",
       "      <td>0.00</td>\n",
       "      <td>0.00</td>\n",
       "      <td>2014</td>\n",
       "      <td>NaN</td>\n",
       "      <td>San Francisco</td>\n",
       "      <td>PT</td>\n",
       "    </tr>\n",
       "    <tr>\n",
       "      <th>148649</th>\n",
       "      <td>148650</td>\n",
       "      <td>Roy I Tillery</td>\n",
       "      <td>Custodian</td>\n",
       "      <td>0.0</td>\n",
       "      <td>0.00</td>\n",
       "      <td>0.00</td>\n",
       "      <td>0.00</td>\n",
       "      <td>0.00</td>\n",
       "      <td>0.00</td>\n",
       "      <td>2014</td>\n",
       "      <td>NaN</td>\n",
       "      <td>San Francisco</td>\n",
       "      <td>PT</td>\n",
       "    </tr>\n",
       "    <tr>\n",
       "      <th>148653</th>\n",
       "      <td>148654</td>\n",
       "      <td>Joe Lopez</td>\n",
       "      <td>Counselor, Log Cabin Ranch</td>\n",
       "      <td>0.0</td>\n",
       "      <td>0.00</td>\n",
       "      <td>-618.13</td>\n",
       "      <td>0.00</td>\n",
       "      <td>-618.13</td>\n",
       "      <td>-618.13</td>\n",
       "      <td>2014</td>\n",
       "      <td>NaN</td>\n",
       "      <td>San Francisco</td>\n",
       "      <td>PT</td>\n",
       "    </tr>\n",
       "  </tbody>\n",
       "</table>\n",
       "<p>1298 rows × 13 columns</p>\n",
       "</div>"
      ],
      "text/plain": [
       "            Id      EmployeeName                     JobTitle  BasePay  \\\n",
       "2896      2897        JOHN PAYNE                  MANAGER VII      0.0   \n",
       "3263      3264  LAWRENCE BADINER                   MANAGER VI      0.0   \n",
       "19058    19059     PETER LEONARD       FIRE FIGHTER PARAMEDIC      0.0   \n",
       "20834    20835   MICHAEL COLLINS            POLICE OFFICER II      0.0   \n",
       "21658    21659   LINDA ZIMMERMAN          PUBLIC HEALTH NURSE      0.0   \n",
       "...        ...               ...                          ...      ...   \n",
       "148645  148646  Carolyn A Wilson    Human Services Technician      0.0   \n",
       "148647  148648    Joann Anderson  Communications Dispatcher 2      0.0   \n",
       "148648  148649       Leon Walker                    Custodian      0.0   \n",
       "148649  148650     Roy I Tillery                    Custodian      0.0   \n",
       "148653  148654         Joe Lopez   Counselor, Log Cabin Ranch      0.0   \n",
       "\n",
       "       OvertimePay OtherPay Benefits   TotalPay  TotalPayBenefits  Year  \\\n",
       "2896             0   142245      NaN  142245.22         142245.22  2011   \n",
       "3263             0   138192      NaN  138191.99         138191.99  2011   \n",
       "19058       1630.2    64356      NaN   65986.23          65986.23  2011   \n",
       "20834      7815.78  52820.8      NaN   60636.55          60636.55  2011   \n",
       "21658            0  58441.6      NaN   58441.60          58441.60  2011   \n",
       "...            ...      ...      ...        ...               ...   ...   \n",
       "148645        0.00     0.00     0.00       0.00              0.00  2014   \n",
       "148647        0.00     0.00     0.00       0.00              0.00  2014   \n",
       "148648        0.00     0.00     0.00       0.00              0.00  2014   \n",
       "148649        0.00     0.00     0.00       0.00              0.00  2014   \n",
       "148653        0.00  -618.13     0.00    -618.13           -618.13  2014   \n",
       "\n",
       "        Notes         Agency Status  \n",
       "2896      NaN  San Francisco    NaN  \n",
       "3263      NaN  San Francisco    NaN  \n",
       "19058     NaN  San Francisco    NaN  \n",
       "20834     NaN  San Francisco    NaN  \n",
       "21658     NaN  San Francisco    NaN  \n",
       "...       ...            ...    ...  \n",
       "148645    NaN  San Francisco     PT  \n",
       "148647    NaN  San Francisco     PT  \n",
       "148648    NaN  San Francisco     PT  \n",
       "148649    NaN  San Francisco     PT  \n",
       "148653    NaN  San Francisco     PT  \n",
       "\n",
       "[1298 rows x 13 columns]"
      ]
     },
     "execution_count": 11,
     "metadata": {},
     "output_type": "execute_result"
    }
   ],
   "source": [
    "Data[Data['BasePay']== 0]"
   ]
  },
  {
   "cell_type": "code",
   "execution_count": 13,
   "metadata": {},
   "outputs": [
    {
     "data": {
      "text/html": [
       "<div>\n",
       "<style scoped>\n",
       "    .dataframe tbody tr th:only-of-type {\n",
       "        vertical-align: middle;\n",
       "    }\n",
       "\n",
       "    .dataframe tbody tr th {\n",
       "        vertical-align: top;\n",
       "    }\n",
       "\n",
       "    .dataframe thead th {\n",
       "        text-align: right;\n",
       "    }\n",
       "</style>\n",
       "<table border=\"1\" class=\"dataframe\">\n",
       "  <thead>\n",
       "    <tr style=\"text-align: right;\">\n",
       "      <th></th>\n",
       "      <th>Id</th>\n",
       "      <th>EmployeeName</th>\n",
       "      <th>JobTitle</th>\n",
       "      <th>BasePay</th>\n",
       "      <th>OvertimePay</th>\n",
       "      <th>OtherPay</th>\n",
       "      <th>Benefits</th>\n",
       "      <th>TotalPay</th>\n",
       "      <th>TotalPayBenefits</th>\n",
       "      <th>Year</th>\n",
       "      <th>Notes</th>\n",
       "      <th>Agency</th>\n",
       "      <th>Status</th>\n",
       "    </tr>\n",
       "  </thead>\n",
       "  <tbody>\n",
       "    <tr>\n",
       "      <th>228</th>\n",
       "      <td>229</td>\n",
       "      <td>SAM YUEN</td>\n",
       "      <td>POLICE OFFICER II</td>\n",
       "      <td>110242.81</td>\n",
       "      <td>16939</td>\n",
       "      <td>75533.1</td>\n",
       "      <td>NaN</td>\n",
       "      <td>202714.92</td>\n",
       "      <td>202714.92</td>\n",
       "      <td>2011</td>\n",
       "      <td>NaN</td>\n",
       "      <td>San Francisco</td>\n",
       "      <td>NaN</td>\n",
       "    </tr>\n",
       "    <tr>\n",
       "      <th>646</th>\n",
       "      <td>647</td>\n",
       "      <td>CHRISTOPHER PORTER</td>\n",
       "      <td>POLICE OFFICER II</td>\n",
       "      <td>105562.40</td>\n",
       "      <td>10535.3</td>\n",
       "      <td>64971.1</td>\n",
       "      <td>NaN</td>\n",
       "      <td>181068.80</td>\n",
       "      <td>181068.80</td>\n",
       "      <td>2011</td>\n",
       "      <td>NaN</td>\n",
       "      <td>San Francisco</td>\n",
       "      <td>NaN</td>\n",
       "    </tr>\n",
       "    <tr>\n",
       "      <th>873</th>\n",
       "      <td>874</td>\n",
       "      <td>MICHAEL ELLIS</td>\n",
       "      <td>POLICE OFFICER II</td>\n",
       "      <td>109749.06</td>\n",
       "      <td>33568.4</td>\n",
       "      <td>30837.8</td>\n",
       "      <td>NaN</td>\n",
       "      <td>174155.24</td>\n",
       "      <td>174155.24</td>\n",
       "      <td>2011</td>\n",
       "      <td>NaN</td>\n",
       "      <td>San Francisco</td>\n",
       "      <td>NaN</td>\n",
       "    </tr>\n",
       "    <tr>\n",
       "      <th>896</th>\n",
       "      <td>897</td>\n",
       "      <td>PAUL SCHLOTFELDT</td>\n",
       "      <td>POLICE OFFICER II</td>\n",
       "      <td>63721.66</td>\n",
       "      <td>16357.5</td>\n",
       "      <td>93158.1</td>\n",
       "      <td>NaN</td>\n",
       "      <td>173237.23</td>\n",
       "      <td>173237.23</td>\n",
       "      <td>2011</td>\n",
       "      <td>NaN</td>\n",
       "      <td>San Francisco</td>\n",
       "      <td>NaN</td>\n",
       "    </tr>\n",
       "    <tr>\n",
       "      <th>977</th>\n",
       "      <td>978</td>\n",
       "      <td>GABRIEL ALCARAZ</td>\n",
       "      <td>POLICE OFFICER II</td>\n",
       "      <td>110118.84</td>\n",
       "      <td>32981.9</td>\n",
       "      <td>27162.7</td>\n",
       "      <td>NaN</td>\n",
       "      <td>170263.45</td>\n",
       "      <td>170263.45</td>\n",
       "      <td>2011</td>\n",
       "      <td>NaN</td>\n",
       "      <td>San Francisco</td>\n",
       "      <td>NaN</td>\n",
       "    </tr>\n",
       "  </tbody>\n",
       "</table>\n",
       "</div>"
      ],
      "text/plain": [
       "      Id        EmployeeName           JobTitle    BasePay OvertimePay  \\\n",
       "228  229            SAM YUEN  POLICE OFFICER II  110242.81       16939   \n",
       "646  647  CHRISTOPHER PORTER  POLICE OFFICER II  105562.40     10535.3   \n",
       "873  874       MICHAEL ELLIS  POLICE OFFICER II  109749.06     33568.4   \n",
       "896  897    PAUL SCHLOTFELDT  POLICE OFFICER II   63721.66     16357.5   \n",
       "977  978     GABRIEL ALCARAZ  POLICE OFFICER II  110118.84     32981.9   \n",
       "\n",
       "    OtherPay Benefits   TotalPay  TotalPayBenefits  Year  Notes  \\\n",
       "228  75533.1      NaN  202714.92         202714.92  2011    NaN   \n",
       "646  64971.1      NaN  181068.80         181068.80  2011    NaN   \n",
       "873  30837.8      NaN  174155.24         174155.24  2011    NaN   \n",
       "896  93158.1      NaN  173237.23         173237.23  2011    NaN   \n",
       "977  27162.7      NaN  170263.45         170263.45  2011    NaN   \n",
       "\n",
       "            Agency Status  \n",
       "228  San Francisco    NaN  \n",
       "646  San Francisco    NaN  \n",
       "873  San Francisco    NaN  \n",
       "896  San Francisco    NaN  \n",
       "977  San Francisco    NaN  "
      ]
     },
     "execution_count": 13,
     "metadata": {},
     "output_type": "execute_result"
    }
   ],
   "source": [
    "Data[Data['JobTitle'] == 'POLICE OFFICER II'][:5]"
   ]
  },
  {
   "cell_type": "markdown",
   "metadata": {},
   "source": []
  },
  {
   "cell_type": "code",
   "execution_count": 5,
   "metadata": {},
   "outputs": [
    {
     "data": {
      "text/plain": [
       "8"
      ]
     },
     "execution_count": 5,
     "metadata": {},
     "output_type": "execute_result"
    }
   ],
   "source": [
    "Zero_police = Data[(Data['JobTitle'].str.contains('POLICE')) & (Data['BasePay'] == 0)]\n",
    "Zero_police.shape[0]"
   ]
  },
  {
   "cell_type": "code",
   "execution_count": 6,
   "metadata": {},
   "outputs": [
    {
     "data": {
      "text/plain": [
       "14"
      ]
     },
     "execution_count": 6,
     "metadata": {},
     "output_type": "execute_result"
    }
   ],
   "source": [
    "Zero_fire = Data[(Data['JobTitle'].str.contains('FIRE')) & (Data['BasePay'] == 0)]\n",
    "Zero_fire.shape[0]"
   ]
  },
  {
   "cell_type": "code",
   "execution_count": 7,
   "metadata": {},
   "outputs": [],
   "source": [
    "Police_data = Data[Data['JobTitle'].str.contains('POLICE')]"
   ]
  },
  {
   "cell_type": "code",
   "execution_count": 8,
   "metadata": {},
   "outputs": [],
   "source": [
    "Fire_data = Data[Data['JobTitle'].str.contains('FIRE')]"
   ]
  },
  {
   "cell_type": "code",
   "execution_count": 9,
   "metadata": {},
   "outputs": [
    {
     "data": {
      "text/plain": [
       "2512"
      ]
     },
     "execution_count": 9,
     "metadata": {},
     "output_type": "execute_result"
    }
   ],
   "source": [
    "Police_data.shape[0]"
   ]
  },
  {
   "cell_type": "code",
   "execution_count": 10,
   "metadata": {},
   "outputs": [
    {
     "data": {
      "text/plain": [
       "1459"
      ]
     },
     "execution_count": 10,
     "metadata": {},
     "output_type": "execute_result"
    }
   ],
   "source": [
    "Fire_data.shape[0]"
   ]
  },
  {
   "cell_type": "markdown",
   "metadata": {},
   "source": [
    "When it comes to police force there are 0.3% Police force with 0 base salary and for Fire dept. that number is 0.95%. This number can be an error or there can be some other reasons involved, but since that number is really small we are going to ignore these values in our analysis."
   ]
  },
  {
   "cell_type": "code",
   "execution_count": 11,
   "metadata": {},
   "outputs": [],
   "source": [
    "New_police = Police_data.drop(index=Zero_police.index.to_list())"
   ]
  },
  {
   "cell_type": "code",
   "execution_count": 12,
   "metadata": {},
   "outputs": [],
   "source": [
    "New_fire = Fire_data.drop(index=Zero_fire.index.to_list())"
   ]
  },
  {
   "cell_type": "code",
   "execution_count": 13,
   "metadata": {},
   "outputs": [
    {
     "data": {
      "text/plain": [
       "261717.6"
      ]
     },
     "execution_count": 13,
     "metadata": {},
     "output_type": "execute_result"
    }
   ],
   "source": [
    "New_police['BasePay'].max()"
   ]
  },
  {
   "cell_type": "code",
   "execution_count": 14,
   "metadata": {},
   "outputs": [
    {
     "data": {
      "text/plain": [
       "28    DEPUTY CHIEF III (POLICE DEPARTMENT)\n",
       "Name: JobTitle, dtype: object"
      ]
     },
     "execution_count": 14,
     "metadata": {},
     "output_type": "execute_result"
    }
   ],
   "source": [
    "New_police[New_police['BasePay'] == New_police['BasePay'].max()]['JobTitle']"
   ]
  },
  {
   "cell_type": "code",
   "execution_count": 15,
   "metadata": {},
   "outputs": [
    {
     "data": {
      "text/plain": [
       "9    CHIEF OF DEPARTMENT, (FIRE DEPARTMENT)\n",
       "Name: JobTitle, dtype: object"
      ]
     },
     "execution_count": 15,
     "metadata": {},
     "output_type": "execute_result"
    }
   ],
   "source": [
    "New_fire[New_fire['BasePay'] == New_fire['BasePay'].max()]['JobTitle']"
   ]
  },
  {
   "cell_type": "code",
   "execution_count": 16,
   "metadata": {},
   "outputs": [
    {
     "data": {
      "text/plain": [
       "35131    SENIOR POLICE COMMUNICATIONS DISPATCHER\n",
       "Name: JobTitle, dtype: object"
      ]
     },
     "execution_count": 16,
     "metadata": {},
     "output_type": "execute_result"
    }
   ],
   "source": [
    "New_police[New_police['BasePay'] == New_police['BasePay'].min()]['JobTitle']"
   ]
  },
  {
   "cell_type": "code",
   "execution_count": 17,
   "metadata": {},
   "outputs": [
    {
     "data": {
      "text/plain": [
       "33399    FIREFIGHTER\n",
       "Name: JobTitle, dtype: object"
      ]
     },
     "execution_count": 17,
     "metadata": {},
     "output_type": "execute_result"
    }
   ],
   "source": [
    "New_fire[New_fire['BasePay'] == New_fire['BasePay'].min()]['JobTitle']"
   ]
  },
  {
   "cell_type": "markdown",
   "metadata": {},
   "source": [
    "It is a little dissapointing to know that a firefighter who is actually present on the cite of disaster putting his life in danger has the least pay in his department."
   ]
  },
  {
   "cell_type": "code",
   "execution_count": 18,
   "metadata": {},
   "outputs": [
    {
     "data": {
      "text/plain": [
       "array(['DEPUTY CHIEF OF DEPARTMENT,(FIRE DEPARTMENT)',\n",
       "       'BATTALION CHIEF, (FIRE DEPARTMENT)',\n",
       "       'CHIEF OF DEPARTMENT, (FIRE DEPARTMENT)',\n",
       "       'ASSISTANT CHIEF OF DEPARTMENT, (FIRE DEPARTMENT)',\n",
       "       'CAPTAIN, FIRE SUPPRESSION', 'FIREFIGHTER',\n",
       "       'LIEUTENANT, FIRE DEPARTMENT',\n",
       "       'LIEUTENANT, BUREAU OF FIRE PREVENTION AND PUBLIC S',\n",
       "       'FIRE FIGHTER PARAMEDIC',\n",
       "       'INSPECTOR, BUREAU OF FIRE PREVENTION AND PUBLIC SA',\n",
       "       'MARINE ENGINEER OF FIRE BOATS',\n",
       "       'CAPTAIN, BUREAU OF FIRE PREVENTION AND PUBLIC SAFE',\n",
       "       'INVESTIGATOR, BUREAU OF FIRE INVESTIGATION',\n",
       "       'FIRE SAFETY INSPECTOR II', 'PILOT OF FIRE BOATS',\n",
       "       'FIRE PROTECTION ENGINEER', 'FIRE RESCUE PARAMEDIC',\n",
       "       'CHIEF FIRE ALARM DISPATCHER', 'FIRE ALARM DISPATCHER'],\n",
       "      dtype=object)"
      ]
     },
     "execution_count": 18,
     "metadata": {},
     "output_type": "execute_result"
    }
   ],
   "source": [
    "New_fire['JobTitle'].unique()"
   ]
  },
  {
   "cell_type": "markdown",
   "metadata": {},
   "source": [
    "# Plotting Data"
   ]
  },
  {
   "cell_type": "code",
   "execution_count": 102,
   "metadata": {},
   "outputs": [
    {
     "data": {
      "text/plain": [
       "<matplotlib.legend.Legend at 0x64146e7848>"
      ]
     },
     "execution_count": 102,
     "metadata": {},
     "output_type": "execute_result"
    },
    {
     "data": {
      "image/png": "[encoded data removed]",
      "text/plain": [
       "<Figure size 1080x432 with 1 Axes>"
      ]
     },
     "metadata": {
      "needs_background": "light"
     },
     "output_type": "display_data"
    }
   ],
   "source": [
    "x1 = np.linspace(1,300000,2504)\n",
    "x2 = np.linspace(1,300000,1445)\n",
    "plt.figure(figsize=(15,6))\n",
    "plt.scatter(x1,New_police['BasePay'], label = 'Police')\n",
    "plt.scatter(x2,New_fire['BasePay'], label = 'Fire')\n",
    "plt.xlabel('Frequency')\n",
    "plt.ylabel('Salaries')\n",
    "plt.legend()"
   ]
  },
  {
   "cell_type": "markdown",
   "metadata": {},
   "source": [
    "Looks like there are more number of police personals earning more than 200K than fire dept. personals.\n"
   ]
  },
  {
   "cell_type": "code",
   "execution_count": 19,
   "metadata": {},
   "outputs": [
    {
     "data": {
      "text/plain": [
       "107581.58047058816"
      ]
     },
     "execution_count": 19,
     "metadata": {},
     "output_type": "execute_result"
    }
   ],
   "source": [
    "New_fire['BasePay'].mean()"
   ]
  },
  {
   "cell_type": "code",
   "execution_count": 20,
   "metadata": {},
   "outputs": [
    {
     "data": {
      "text/plain": [
       "106319.81290335458"
      ]
     },
     "execution_count": 20,
     "metadata": {},
     "output_type": "execute_result"
    }
   ],
   "source": [
    "New_police['BasePay'].mean()"
   ]
  },
  {
   "cell_type": "markdown",
   "metadata": {},
   "source": [
    "The Mean Salary of Fire dept. looks slightly higher, but they look quite close to each other. This difference can also be caused due to outliers. To take care of that we will take a random sample of 60 values."
   ]
  },
  {
   "cell_type": "code",
   "execution_count": 24,
   "metadata": {},
   "outputs": [],
   "source": [
    "Sample_size = 60\n",
    "Fire_sample = np.random.choice(New_fire['BasePay'], Sample_size, replace=False)\n",
    "Police_sample = np.random.choice(New_police['BasePay'], Sample_size, replace=False)"
   ]
  },
  {
   "cell_type": "code",
   "execution_count": 30,
   "metadata": {},
   "outputs": [],
   "source": [
    "def compare_means(arr1, arr2, alpha):\n",
    "    stat,p = ttest_ind(arr1, arr2)\n",
    "    print('Pvalue = %.3f'%(p))\n",
    "    if p > alpha:\n",
    "        print('There\\'s no significant difference between the 2 distributions')\n",
    "    else:\n",
    "        print('The distribution has significant difference')"
   ]
  },
  {
   "cell_type": "code",
   "execution_count": 31,
   "metadata": {},
   "outputs": [
    {
     "name": "stdout",
     "output_type": "stream",
     "text": [
      "Pvalue = 0.687\n",
      "There's no significant difference between the 2 distributions\n"
     ]
    }
   ],
   "source": [
    "compare_means(Fire_sample, Police_sample, 0.05)"
   ]
  },
  {
   "cell_type": "markdown",
   "metadata": {},
   "source": [
    "# Conclusion"
   ]
  },
  {
   "cell_type": "markdown",
   "metadata": {},
   "source": [
    "There is no significant difference between the salaries of fire dept. and police dept."
   ]
  }
 ],
 "metadata": {
  "kernelspec": {
   "display_name": "Python 3",
   "language": "python",
   "name": "python3"
  },
  "language_info": {
   "codemirror_mode": {
    "name": "ipython",
    "version": 3
   },
   "file_extension": ".py",
   "mimetype": "text/x-python",
   "name": "python",
   "nbconvert_exporter": "python",
   "pygments_lexer": "ipython3",
   "version": "3.7.6"
  }
 },
 "nbformat": 4,
 "nbformat_minor": 4
}
